{
  "nbformat": 4,
  "nbformat_minor": 0,
  "metadata": {
    "colab": {
      "name": "Copy of Copy of Gradient_Descent_Logistic_Regression.ipynb",
      "provenance": [],
      "collapsed_sections": [],
      "include_colab_link": true
    },
    "kernelspec": {
      "name": "python3",
      "display_name": "Python 3"
    },
    "language_info": {
      "name": "python"
    }
  },
  "cells": [
    {
      "cell_type": "markdown",
      "metadata": {
        "id": "view-in-github",
        "colab_type": "text"
      },
      "source": [
        "<a href=\"https://colab.research.google.com/github/srivatsankr/AXDemo/blob/master/Copy_of_Copy_of_Gradient_Descent_Logistic_Regression.ipynb\" target=\"_parent\"><img src=\"https://colab.research.google.com/assets/colab-badge.svg\" alt=\"Open In Colab\"/></a>"
      ]
    },
    {
      "cell_type": "markdown",
      "source": [
        "## Logistic Regression, Gradient Descent\n",
        "##Loss function, \n",
        "##Python implementation"
      ],
      "metadata": {
        "id": "jgDE6m2ealOr"
      }
    },
    {
      "cell_type": "markdown",
      "source": [
        "##Logistic Regression\n",
        "Logistic regression is a probabilistic model, used to establish the relationship between a binary dependent variable and one or more independent variables. Let $X_i$ be the independent variable (training variable) and $Y$ be the dependent variable.  Linear Regression predicts probability of outcome of binary dependent variable $(Y)$ and the output lies between 0 and 1.  The prediction equation between $X_i$ and $Y$ is\n",
        "$$ ln(\\frac{p}{1-p}) = b_0 + b_1x_1 + b_2x_2 + b_3x_3 ... b_nx_n $$  $ln(\\frac{p}{1-p})$ is *log odds* and denotes the likelihood of the event taking place. It maps the probabilty between 0 and 1. The terms $b_0, b_1, b_2 ...$ are parameters estimated during training of each record. \n",
        "The above equation can be rewritten as $$ \\frac{p}{1-p}  = e^{b_0 + b_1x_1 + b_2x_2 + b_3x_3 ... b_nx_n} $$ \n",
        "simplifying it further\n",
        " $$\\begin{align*}  p &= \\frac{e^{b_0 + b_1x_1 + b_2x_2 + b_3x_3 ... b_nx_n}}{1 + e^{b_0 + b_1x_1 + b_2x_2 + b_3x_3 ... b_nx_n}} \\\\ \\text{or}\\\\   p &= \\frac{1}{1 + e^{-(b_0 + b_1x_1 + b_2x_2 + b_3x_3 ... b_nx_n)}}\\\\ &\\text{This is the equation of the *Sigmoid Function* given by: } \\\\ \n",
        " σ(x) &= \\frac{1}{1+e^{-x}} \\\\ &\\text{Deriving the sigmoid function,} \\\\ \\sigma^\\prime(x)=\\frac d {dX} \\sigma(x) &= \\frac d{dX} \\frac1{(1+e^{-X})}\\\\ \n",
        "&=\\frac d{dX} {(1+e^{-X})^{-1}} \\\\ &\\text{Using reciprocal rule, then rule of linearity,}\\\\\n",
        "&=  -(1+e^{-X})^{-2}.\\frac d {dX}(1+e^{-X})\\\\\n",
        "&= -(1+e^{-X})^{-2}.(\\frac d{dX}[1]+\\frac d{dX}[e^{-X}])\\\\\n",
        "&\\text{Derivative of constant is 0,}\\\\\n",
        "& = -(1+e^{-X})^{-2}.(0+e^{-X}\\frac d{dX}[-X]) \\\\\n",
        "& =(1+e^{-X})^{-2}.e^{-X} \\\\\n",
        "& = \\frac{e^{-X}}{(1+e^{-X})^{2}} \\\\\n",
        "&=\\frac{1}{(1+e^{-X})}.\\frac {e^{-X}+1-1}{(1+e^{-X})}\\\\\n",
        "& = \\frac{1}{(1+e^{-X})}.(\\frac{1+e^{-X}}{1+e^{-X}}-\\frac{1}{1+e^{-X}} ) \\\\\n",
        "& = \\frac{1}{(1+e^{-X})}.(1-\\frac{1}{1+e^{-X}} ) \\\\\n",
        "& = σ(X).(1-σ(X))\n",
        " \\end{align*}$$\n",
        "![image.png](data:image/png;base64,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) \\\\\n",
        "Now we will be using the above derived equation to make our predictions. Before that we will train our model to obtain the values of our parameters $b_0, b_1, b_2 ...$ that result in least error. This is where the error or loss function comes in.\n",
        "## Loss Function\n",
        "Loss functions are used to calculate error in a model.  There are two types of Loss functions.  L1 and L2. \\\\\n",
        "L1 loss function is used to minimize the error which is the sum of the all the absolute differences between the true value and the predicted value. \\\\\n",
        "L2 Loss Function\n",
        "L2 Loss Function is used to minimize the error which is the sum of the all the squared differences between the true value and the predicted value.\n",
        "\n",
        "The cost function of linear regression L1 and L2 can’t be used in logistic regression because it is a non-convex function of weights. Optimizing algorithms like i.e gradient descent only converge convex function into a global minimum.\n",
        "\n",
        "J = - ylog( h(x) ) - ( 1 - y )log( 1 - h(x) )\n",
        "\n",
        "here, y is the real target value\n",
        "\n",
        "h( x ) = sigmoid( wx + b )\n",
        "\n",
        "For y = 0,\n",
        "\n",
        "J = - log( 1 - h(x) )\n",
        "\n",
        "and y = 1,\n",
        "\n",
        "J = - log( h(x) )\n",
        "\n",
        "Gradient Calculation :\n",
        "\n",
        "repeat until convergence  { \\\\\n",
        "       tmpi = wi - alpha * dwi  \\\\\n",
        "       wi = tmpi      } \\\\\n",
        "where alpha is the learning rate. \\\\\n",
        "Using the chain rule \\\\\n",
        "\n",
        "![image.png](data:image/png;base64,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) \\\\\n",
        "here, a = sigmoid( z ) and z = wx + b."
      ],
      "metadata": {
        "id": "-5hZdb3ob9Hi"
      }
    },
    {
      "cell_type": "code",
      "source": [
        "# Importing libraries\n",
        "import pandas as pd\n",
        "import numpy as np\n",
        "from sklearn import preprocessing\n",
        "import matplotlib.pyplot as plt \n",
        "plt.rc(\"font\", size=14)\n",
        "from sklearn.linear_model import LogisticRegression\n",
        "from sklearn.model_selection import train_test_split\n",
        "import seaborn as sns\n",
        "sns.set(style=\"white\")\n",
        "sns.set(style=\"whitegrid\", color_codes=True) "
      ],
      "metadata": {
        "id": "mwHCjogkPjrv"
      },
      "execution_count": null,
      "outputs": []
    },
    {
      "cell_type": "code",
      "source": [
        "from google.colab import files\n",
        "uploaded = files.upload()\n",
        "import io\n",
        "data = pd.read_csv(io.BytesIO(uploaded['diabetes.csv']))\n",
        "data.head()"
      ],
      "metadata": {
        "colab": {
          "base_uri": "https://localhost:8080/",
          "height": 262,
          "resources": {
            "http://localhost:8080/nbextensions/google.colab/files.js": {
              "data": "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",
              "ok": true,
              "headers": [
                [
                  "content-type",
                  "application/javascript"
                ]
              ],
              "status": 200,
              "status_text": ""
            }
          }
        },
        "id": "I9eoF5FRPgei",
        "outputId": "03245b84-500f-4500-8eae-07fce7334992"
      },
      "execution_count": null,
      "outputs": [
        {
          "output_type": "display_data",
          "data": {
            "text/html": [
              "\n",
              "     <input type=\"file\" id=\"files-8f4679c6-f6b2-4c50-b1cd-46cc75894dc0\" name=\"files[]\" multiple disabled\n",
              "        style=\"border:none\" />\n",
              "     <output id=\"result-8f4679c6-f6b2-4c50-b1cd-46cc75894dc0\">\n",
              "      Upload widget is only available when the cell has been executed in the\n",
              "      current browser session. Please rerun this cell to enable.\n",
              "      </output>\n",
              "      <script src=\"/nbextensions/google.colab/files.js\"></script> "
            ],
            "text/plain": [
              "<IPython.core.display.HTML object>"
            ]
          },
          "metadata": {}
        },
        {
          "output_type": "stream",
          "name": "stdout",
          "text": [
            "Saving diabetes.csv to diabetes.csv\n"
          ]
        },
        {
          "output_type": "execute_result",
          "data": {
            "text/html": [
              "<div>\n",
              "<style scoped>\n",
              "    .dataframe tbody tr th:only-of-type {\n",
              "        vertical-align: middle;\n",
              "    }\n",
              "\n",
              "    .dataframe tbody tr th {\n",
              "        vertical-align: top;\n",
              "    }\n",
              "\n",
              "    .dataframe thead th {\n",
              "        text-align: right;\n",
              "    }\n",
              "</style>\n",
              "<table border=\"1\" class=\"dataframe\">\n",
              "  <thead>\n",
              "    <tr style=\"text-align: right;\">\n",
              "      <th></th>\n",
              "      <th>Pregnancies</th>\n",
              "      <th>Glucose</th>\n",
              "      <th>BloodPressure</th>\n",
              "      <th>SkinThickness</th>\n",
              "      <th>Insulin</th>\n",
              "      <th>BMI</th>\n",
              "      <th>DiabetesPedigreeFunction</th>\n",
              "      <th>Age</th>\n",
              "      <th>Outcome</th>\n",
              "    </tr>\n",
              "  </thead>\n",
              "  <tbody>\n",
              "    <tr>\n",
              "      <th>0</th>\n",
              "      <td>6</td>\n",
              "      <td>148</td>\n",
              "      <td>72</td>\n",
              "      <td>35</td>\n",
              "      <td>0</td>\n",
              "      <td>33.6</td>\n",
              "      <td>0.627</td>\n",
              "      <td>50</td>\n",
              "      <td>1</td>\n",
              "    </tr>\n",
              "    <tr>\n",
              "      <th>1</th>\n",
              "      <td>1</td>\n",
              "      <td>85</td>\n",
              "      <td>66</td>\n",
              "      <td>29</td>\n",
              "      <td>0</td>\n",
              "      <td>26.6</td>\n",
              "      <td>0.351</td>\n",
              "      <td>31</td>\n",
              "      <td>0</td>\n",
              "    </tr>\n",
              "    <tr>\n",
              "      <th>2</th>\n",
              "      <td>8</td>\n",
              "      <td>183</td>\n",
              "      <td>64</td>\n",
              "      <td>0</td>\n",
              "      <td>0</td>\n",
              "      <td>23.3</td>\n",
              "      <td>0.672</td>\n",
              "      <td>32</td>\n",
              "      <td>1</td>\n",
              "    </tr>\n",
              "    <tr>\n",
              "      <th>3</th>\n",
              "      <td>1</td>\n",
              "      <td>89</td>\n",
              "      <td>66</td>\n",
              "      <td>23</td>\n",
              "      <td>94</td>\n",
              "      <td>28.1</td>\n",
              "      <td>0.167</td>\n",
              "      <td>21</td>\n",
              "      <td>0</td>\n",
              "    </tr>\n",
              "    <tr>\n",
              "      <th>4</th>\n",
              "      <td>0</td>\n",
              "      <td>137</td>\n",
              "      <td>40</td>\n",
              "      <td>35</td>\n",
              "      <td>168</td>\n",
              "      <td>43.1</td>\n",
              "      <td>2.288</td>\n",
              "      <td>33</td>\n",
              "      <td>1</td>\n",
              "    </tr>\n",
              "  </tbody>\n",
              "</table>\n",
              "</div>"
            ],
            "text/plain": [
              "   Pregnancies  Glucose  BloodPressure  ...  DiabetesPedigreeFunction  Age  Outcome\n",
              "0            6      148             72  ...                     0.627   50        1\n",
              "1            1       85             66  ...                     0.351   31        0\n",
              "2            8      183             64  ...                     0.672   32        1\n",
              "3            1       89             66  ...                     0.167   21        0\n",
              "4            0      137             40  ...                     2.288   33        1\n",
              "\n",
              "[5 rows x 9 columns]"
            ]
          },
          "metadata": {},
          "execution_count": 4
        }
      ]
    },
    {
      "cell_type": "code",
      "source": [
        "data = data.dropna()\n",
        "print(data.shape)\n",
        "print(list(data.columns))"
      ],
      "metadata": {
        "colab": {
          "base_uri": "https://localhost:8080/"
        },
        "id": "2g-F0Qzhb9Qo",
        "outputId": "27debcbd-017e-49bf-f396-f1b0a2ce7b26"
      },
      "execution_count": null,
      "outputs": [
        {
          "output_type": "stream",
          "name": "stdout",
          "text": [
            "(768, 9)\n",
            "['Pregnancies', 'Glucose', 'BloodPressure', 'SkinThickness', 'Insulin', 'BMI', 'DiabetesPedigreeFunction', 'Age', 'Outcome']\n"
          ]
        }
      ]
    },
    {
      "cell_type": "code",
      "source": [
        "data['Outcome'].value_counts()\n",
        "sns.countplot(x='Outcome',data=data, palette='hls')\n",
        "plt.show()"
      ],
      "metadata": {
        "colab": {
          "base_uri": "https://localhost:8080/",
          "height": 285
        },
        "id": "biVBF-sQzoUU",
        "outputId": "a660491c-a719-4af1-e24f-d900b364de5e"
      },
      "execution_count": null,
      "outputs": [
        {
          "output_type": "display_data",
          "data": {
            "image/png": "[encoded data removed]",
            "text/plain": [
              "<Figure size 432x288 with 1 Axes>"
            ]
          },
          "metadata": {}
        }
      ]
    },
    {
      "cell_type": "code",
      "source": [
        "# Logistic Regression\n",
        "class LogitRegression() :\n",
        "    def __init__( self, learning_rate, iterations ) :        \n",
        "        self.learning_rate = learning_rate        \n",
        "        self.iterations = iterations\n",
        "          \n",
        "    # Function for model training    \n",
        "    def fit( self, X, Y ) :        \n",
        "        # no_of_training_examples, no_of_features        \n",
        "        self.m, self.n = X.shape        \n",
        "        # weight initialization        \n",
        "        self.W = np.zeros( self.n )        \n",
        "        self.b = 0        \n",
        "        self.X = X        \n",
        "        self.Y = Y\n",
        "          \n",
        "        # gradient descent learning\n",
        "                  \n",
        "        for i in range( self.iterations ) :            \n",
        "            self.update_weights()            \n",
        "        return self\n",
        "        \n",
        "# Helper function to update weights in gradient descent\n",
        "      \n",
        "    def update_weights( self ) :           \n",
        "        A = 1 / ( 1 + np.exp( - ( self.X.dot( self.W ) + self.b ) ) )          \n",
        "        # calculate gradients        \n",
        "        tmp = ( A - self.Y.T )        \n",
        "        tmp = np.reshape( tmp, self.m )        \n",
        "        dW = np.dot( self.X.T, tmp ) / self.m         \n",
        "        db = np.sum( tmp ) / self.m           \n",
        "        # update weights    \n",
        "        self.W = self.W - self.learning_rate * dW    \n",
        "        self.b = self.b - self.learning_rate * db          \n",
        "        return self\n",
        "         \n",
        "    # Hypothetical function  h( x ) \n",
        "      \n",
        "    def predict( self, X ) :    \n",
        "        Z = 1 / ( 1 + np.exp( - ( X.dot( self.W ) + self.b ) ) )        \n",
        "        Y = np.where( Z > 0.5, 1, 0 )        \n",
        "        return Y\n",
        " "
      ],
      "metadata": {
        "id": "JziyaaQMLrom"
      },
      "execution_count": null,
      "outputs": []
    },
    {
      "cell_type": "code",
      "source": [
        "def main() :\n",
        "      \n",
        "    # Importing dataset    \n",
        "    X = data.iloc[:,:-1].values\n",
        "    Y = data.iloc[:,-1:].values\n",
        "      \n",
        "    # Splitting dataset into train and test set\n",
        "    X_train, X_test, Y_train, Y_test = train_test_split(\n",
        "      X, Y, test_size = 1/4, random_state = 0 )\n",
        "      \n",
        "    # Model training    \n",
        "    model = LogitRegression( learning_rate = 0.01, iterations = 500 )\n",
        "      \n",
        "    model.fit( X_train, Y_train )    \n",
        "    model1 = LogisticRegression()    \n",
        "    model1.fit( X_train, Y_train)\n",
        "      \n",
        "    # Prediction on test set\n",
        "    Y_pred = model.predict( X_test )    \n",
        "    Y_pred1 = model1.predict( X_test )\n",
        "      \n",
        "    # measure performance    \n",
        "    correctly_classified = 0    \n",
        "    correctly_classified1 = 0\n",
        "      \n",
        "    # counter    \n",
        "    count = 0    \n",
        "    for count in range( np.size( Y_pred ) ) :  \n",
        "        \n",
        "        if Y_test[count] == Y_pred[count] :            \n",
        "            correctly_classified = correctly_classified + 1\n",
        "          \n",
        "        if Y_test[count] == Y_pred1[count] :            \n",
        "            correctly_classified1 = correctly_classified1 + 1\n",
        "              \n",
        "        count = count + 1\n",
        "          \n",
        "    print( \"Accuracy on test set by our model       :  \", ( \n",
        "      correctly_classified / count ) * 100 )\n",
        "    print( \"Accuracy on test set by sklearn model   :  \", ( \n",
        "      correctly_classified1 / count ) * 100 )\n",
        "    \n",
        "if __name__ == \"__main__\" :\n",
        "  main()"
      ],
      "metadata": {
        "colab": {
          "base_uri": "https://localhost:8080/"
        },
        "id": "dtCi8yLyMzQf",
        "outputId": "bee15785-1f3d-4a37-dbd6-ac4f64f823ef"
      },
      "execution_count": null,
      "outputs": [
        {
          "output_type": "stream",
          "name": "stdout",
          "text": [
            "Accuracy on test set by our model       :   72.91666666666666\n",
            "Accuracy on test set by sklearn model   :   80.20833333333334\n"
          ]
        },
        {
          "output_type": "stream",
          "name": "stderr",
          "text": [
            "/usr/local/lib/python3.7/dist-packages/sklearn/utils/validation.py:985: DataConversionWarning: A column-vector y was passed when a 1d array was expected. Please change the shape of y to (n_samples, ), for example using ravel().\n",
            "  y = column_or_1d(y, warn=True)\n"
          ]
        }
      ]
    }
  ]
}